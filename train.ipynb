{
 "cells": [
  {
   "cell_type": "code",
   "execution_count": 1,
   "metadata": {},
   "outputs": [],
   "source": [
    "from __future__ import print_function\n",
    "import torch\n",
    "from torch.utils.data import Dataset, DataLoader\n",
    "import os\n",
    "import numpy as np\n",
    "import torch.nn as nn\n",
    "import torch.nn.functional as F\n",
    "import torch.optim as optim\n",
    "import time"
   ]
  },
  {
   "cell_type": "code",
   "execution_count": 46,
   "metadata": {},
   "outputs": [],
   "source": [
    "class CurrencyDataset(Dataset):\n",
    "    def __init__(self,root_dir):\n",
    "        self.dir = os.path.abspath(root_dir)\n",
    "    def __getitem__(self,idx):\n",
    "        data_path = os.path.join(self.dir,'Batches','Batch_' + str(idx) + '.npy')\n",
    "        label_path = os.path.join(self.dir,'Labels','Label_' + str(idx) + '.npy')\n",
    "        data = np.load(data_path)\n",
    "        labels = np.load(label_path)\n",
    "        return (data,labels)\n",
    "    def __len__(self):\n",
    "        return len(os.listdir(os.path.join(self.dir,'Batches')))\n",
    "\n",
    "class Net(nn.Module):\n",
    "    def __init__(self):\n",
    "        super(Net, self).__init__()\n",
    "        self.conv1 = nn.Conv2d(3,1,(1,50))\n",
    "        self.fc1 = nn.Linear(1, 3000)\n",
    "        self.dp1 = nn.Dropout(p=0.9)\n",
    "        self.fc2 = nn.Linear(3000, 3500)\n",
    "        self.fc3 = nn.Linear(3500, 1)\n",
    "\n",
    "    def forward(self, x):\n",
    "        print(x.shape)\n",
    "     #   x = self.dp1(x)\n",
    "#         print(x.shape)\n",
    "        x = F.relu(self.conv1(x))\n",
    "        x = F.relu(self.fc1(x))\n",
    "        print(x.shape)\n",
    "        x = self.dp1(x)\n",
    "        x = F.relu(self.fc2(x))\n",
    "        x = self.dp1(x)\n",
    "        x = self.fc3(x)\n",
    "        print(x.shape)\n",
    "        x = x.view(-1,2)\n",
    "        x = F.softmax(x,dim=1)\n",
    "        return x\n",
    "def weight_reset(m):\n",
    "    if isinstance(m, nn.Conv2d) or isinstance(m, nn.Linear):\n",
    "        print('Success')\n",
    "        torch.nn.init.xavier_uniform_(m.weight)"
   ]
  },
  {
   "cell_type": "code",
   "execution_count": 47,
   "metadata": {},
   "outputs": [],
   "source": [
    "torch.set_default_tensor_type('torch.DoubleTensor')\n",
    "data = CurrencyDataset('./Processed')\n",
    "net = Net()\n",
    "\n",
    "net = net.double()\n",
    "net = net.cuda()\n",
    "net.train()\n",
    "dataloader = DataLoader(data,batch_size=2000,shuffle=True,pin_memory=True)"
   ]
  },
  {
   "cell_type": "code",
   "execution_count": 48,
   "metadata": {},
   "outputs": [],
   "source": [
    "optimizer = optim.Adam(net.parameters(), lr=0.0001)"
   ]
  },
  {
   "cell_type": "code",
   "execution_count": 49,
   "metadata": {},
   "outputs": [
    {
     "name": "stdout",
     "output_type": "stream",
     "text": [
      "Success\n",
      "Success\n",
      "Success\n",
      "Success\n",
      "torch.Size([2000, 3, 2, 50])\n",
      "torch.Size([2000, 1, 2, 3000])\n",
      "torch.Size([2000, 1, 2, 1])\n",
      "torch.Size([2000, 3, 2, 50])\n",
      "torch.Size([2000, 1, 2, 3000])\n",
      "torch.Size([2000, 1, 2, 1])\n"
     ]
    }
   ],
   "source": [
    "running_loss = 0.0\n",
    "net.apply(weight_reset)\n",
    "for i in range(2):\n",
    "    for i,batch in enumerate(dataloader):\n",
    "        optimizer.zero_grad()\n",
    "        d,y = batch\n",
    "        \n",
    "        d = d.cuda()\n",
    "        x = net(d)\n",
    "        y = (y.reshape([-1,2])).cuda()\n",
    "        z = torch.mul(x,y)\n",
    "        z = z.sum(dim=1)\n",
    "        loss = z.sum()\n",
    "        loss /= z.shape[0]\n",
    "        loss = loss ** -1\n",
    "        loss.backward()\n",
    "        optimizer.step()"
   ]
  },
  {
   "cell_type": "code",
   "execution_count": null,
   "metadata": {},
   "outputs": [],
   "source": [
    "net.eval()\n",
    "for i,batch in enumerate(dataloader):\n",
    "    d,y = batch\n",
    "    print(y)\n",
    "    print(net(d.cuda()))\n",
    "    break"
   ]
  },
  {
   "cell_type": "code",
   "execution_count": null,
   "metadata": {},
   "outputs": [],
   "source": []
  }
 ],
 "metadata": {
  "kernelspec": {
   "display_name": "Python 3",
   "language": "python",
   "name": "python3"
  },
  "language_info": {
   "codemirror_mode": {
    "name": "ipython",
    "version": 3
   },
   "file_extension": ".py",
   "mimetype": "text/x-python",
   "name": "python",
   "nbconvert_exporter": "python",
   "pygments_lexer": "ipython3",
   "version": "3.7.1"
  }
 },
 "nbformat": 4,
 "nbformat_minor": 2
}
