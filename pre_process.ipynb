{
 "cells": [
  {
   "cell_type": "code",
   "execution_count": 1,
   "metadata": {},
   "outputs": [],
   "source": [
    "import pandas as pd\n",
    "import zipfile as zf\n",
    "import os\n",
    "import shutil\n",
    "import numpy as np\n",
    "import itertools\n",
    "from functools import reduce"
   ]
  },
  {
   "cell_type": "code",
   "execution_count": 2,
   "metadata": {},
   "outputs": [],
   "source": [
    "currencies = ['USD', 'TRY', 'GBP', 'JPY', 'EUR']\n",
    "master_dir = os.path.abspath('./Data/')\n",
    "dirs = os.listdir(master_dir)\n",
    "pairs = [(str(i[0]) + str(i[1])) for i in list(itertools.permutations(currencies, 2)) if 'USD' in i]\n",
    "years = []\n",
    "for word in dirs:\n",
    "    if '20' in word:\n",
    "        years.append(word)\n",
    "available_currencies = set()\n",
    "for year in years:\n",
    "    for elements in os.listdir(os.path.join(master_dir, year)):\n",
    "        if elements in pairs:\n",
    "            available_currencies.add(elements)"
   ]
  },
  {
   "cell_type": "code",
   "execution_count": 3,
   "metadata": {},
   "outputs": [],
   "source": [
    "class PairData:\n",
    "    def __init__(self, name, tick:str):\n",
    "        self.name = name\n",
    "        self.data = tick\n",
    "        self.month = {\"01\":None, \"02\":None,\"03\":None, \"04\":None, \"05\":None, \n",
    "                      \"06\":None, \"07\":None, \"08\":None, \"09\":None, \"10\":None,\n",
    "                      \"11\":None, \"12\":None}\n",
    "        self.year = dict()\n",
    "    def add_month(self, frame_path):\n",
    "        index = frame_path.find('_20')\n",
    "        year_select = frame_path[index+1 : index + 5]\n",
    "        if year_select not in self.year.keys():\n",
    "            self.year[year_select] = self.month.copy()\n",
    "        if frame_path[index+5] != '.':\n",
    "            month_select = frame_path[index + 5 : index + 7]\n",
    "        else:\n",
    "            month_select = \"01\"\n",
    "            if self.year[year_select][month_select] != None:\n",
    "                return\n",
    "        if month_select not in self.month.keys():\n",
    "            return\n",
    "        self.year[year_select][month_select] = pd.read_csv(frame_path, header=None, delimiter=';',float_precision='high')\n",
    "    def get_month(self, month_in, year_in):\n",
    "        return self.year[year_in][month_in]\n",
    "    def get_history(self):\n",
    "        return self.year"
   ]
  },
  {
   "cell_type": "code",
   "execution_count": 4,
   "metadata": {},
   "outputs": [],
   "source": [
    "if not os.path.exists(os.path.abspath('./Processed/')):\n",
    "    os.makedirs(os.path.abspath('./Processed/'))"
   ]
  },
  {
   "cell_type": "code",
   "execution_count": null,
   "metadata": {},
   "outputs": [],
   "source": [
    "def unzip_files(path_name):\n",
    "    files = os.listdir(path_name)\n",
    "    unzip_name = os.path.join(path_name, 'Unzip')\n",
    "    if not os.path.exists(unzip_name):\n",
    "        os.makedirs(unzip_name)\n",
    "    done_file = os.path.join(unzip_name,'Done.txt')\n",
    "    if not os.path.exists(done_file):\n",
    "        f = open(done_file, 'w')\n",
    "        for file in files:\n",
    "            if 'ASCII' in file and '.zip' in file:\n",
    "                zip_file = zf.ZipFile(os.path.join(path_name, file), 'r')\n",
    "                zip_file.extractall(os.path.abspath(unzip_name))\n",
    "                zip_file.close()\n",
    "        unzipped_files = os.listdir(os.path.abspath(unzip_name))\n",
    "        tick_folder = os.path.join(unzip_name, 'Tick')\n",
    "        minute_folder = os.path.join(unzip_name,'Minute')\n",
    "        if not os.path.exists(tick_folder):\n",
    "            os.makedirs(tick_folder)\n",
    "        if not os.path.exists(minute_folder):\n",
    "            os.makedirs(minute_folder)\n",
    "        for file in unzipped_files:\n",
    "            if '.csv' in file:\n",
    "                if '_T_' in file:\n",
    "                    shutil.move(os.path.join(unzip_name,file), os.path.join(tick_folder, file))\n",
    "                if '_M1_' in file:\n",
    "                    shutil.move(os.path.join(unzip_name, file), os.path.join(minute_folder, file))"
   ]
  },
  {
   "cell_type": "code",
   "execution_count": null,
   "metadata": {},
   "outputs": [],
   "source": [
    "for pair in available_currencies:\n",
    "    for year in years:\n",
    "        path_name = os.path.join(master_dir, year, pair)\n",
    "        if os.path.isdir(path_name):\n",
    "            unzip_files(path_name)"
   ]
  },
  {
   "cell_type": "code",
   "execution_count": null,
   "metadata": {},
   "outputs": [],
   "source": [
    "data_frames = {}\n",
    "for year in years:\n",
    "    for pair in available_currencies:\n",
    "        if pair not in data_frames.keys():\n",
    "            data_frames[pair] = PairData(pair, 'min')\n",
    "        current_pair = data_frames[pair]\n",
    "        path_name = os.path.join(master_dir, year, pair)\n",
    "        if not os.path.isdir(path_name):\n",
    "            continue\n",
    "        files = os.listdir(path_name)\n",
    "        unzip_name = os.path.join(path_name, 'Unzip', 'Minute')\n",
    "        frames = os.listdir(unzip_name)\n",
    "        for frame in frames:\n",
    "            if 'DAT' in frame:\n",
    "                current_pair.add_month(os.path.join(unzip_name, frame))"
   ]
  },
  {
   "cell_type": "code",
   "execution_count": null,
   "metadata": {},
   "outputs": [],
   "source": [
    "frame_collections = dict()\n",
    "for key, value in data_frames.items():\n",
    "    current_pair = data_frames[key].get_history()\n",
    "    concat_frames = []\n",
    "    frame_collections[key] = concat_frames\n",
    "    for year_key in sorted(current_pair.keys()):\n",
    "        for month_key in sorted(current_pair[year_key].keys()):\n",
    "            if current_pair[year_key][month_key] is not None:\n",
    "                concat_frames.append(current_pair[year_key][month_key])"
   ]
  },
  {
   "cell_type": "code",
   "execution_count": null,
   "metadata": {},
   "outputs": [
    {
     "name": "stdout",
     "output_type": "stream",
     "text": [
      "USDJPY\n",
      "USDTRY\n",
      "GBPUSD\n",
      "EURUSD\n"
     ]
    }
   ],
   "source": [
    "prepared_frames = dict()\n",
    "for key in frame_collections.keys():\n",
    "    print(key)\n",
    "    current_pair = frame_collections[key]\n",
    "    df = pd.concat(current_pair)\n",
    "    pd.set_option('display.max_columns', 30)\n",
    "    df.columns = ['Timestamp', 'Open', 'High', 'Low', 'Close', 'Vol']\n",
    "    df = df.drop(columns=['Vol'])\n",
    "    df.reset_index(drop=True, inplace=True)\n",
    "    prepared_frames[key] = df\n"
   ]
  },
  {
   "cell_type": "code",
   "execution_count": null,
   "metadata": {},
   "outputs": [
    {
     "name": "stdout",
     "output_type": "stream",
     "text": [
      "USDJPY (6114674, 5)\n",
      "USDTRY (2486268, 5)\n",
      "GBPUSD (6037028, 5)\n",
      "EURUSD (6151625, 5)\n"
     ]
    }
   ],
   "source": [
    "for key in prepared_frames.items():\n",
    "    print(key[0],key[1].shape)"
   ]
  },
  {
   "cell_type": "code",
   "execution_count": null,
   "metadata": {},
   "outputs": [],
   "source": [
    "data_frames = [item[1] for item in prepared_frames.items()]\n",
    "df_merged = reduce(lambda  left,right: pd.merge(left,right,on=['Timestamp'],\n",
    "                                            how='outer', sort=True), data_frames)"
   ]
  },
  {
   "cell_type": "code",
   "execution_count": null,
   "metadata": {},
   "outputs": [],
   "source": [
    "df_key = pd.DataFrame(df_merged['Timestamp'])"
   ]
  },
  {
   "cell_type": "code",
   "execution_count": null,
   "metadata": {},
   "outputs": [],
   "source": [
    "for datum in prepared_frames.items():\n",
    "    df = pd.merge(df_key,datum[1],on=['Timestamp'],how='outer',sort=True)\n",
    "    key = datum[0]\n",
    "    if any(df.iloc[0].isna()):\n",
    "        if key[:3] == 'USD':\n",
    "            df.loc[0,['Open','High','Low','Close']] = 0\n",
    "        else:\n",
    "            val = df['Open'].max(axis=0)\n",
    "            df.loc[0,['Open','High','Low','Close']] = val * 2\n",
    "    df = df.interpolate()\n",
    "    file_name = os.path.join('./Processed', key + '.csv')\n",
    "    print(df.shape)\n",
    "    print(df.isna().sum())\n",
    "#     df.to_csv(file_name, sep='\\t')"
   ]
  },
  {
   "cell_type": "code",
   "execution_count": null,
   "metadata": {},
   "outputs": [],
   "source": []
  }
 ],
 "metadata": {
  "kernelspec": {
   "display_name": "Python 3",
   "language": "python",
   "name": "python3"
  },
  "language_info": {
   "codemirror_mode": {
    "name": "ipython",
    "version": 3
   },
   "file_extension": ".py",
   "mimetype": "text/x-python",
   "name": "python",
   "nbconvert_exporter": "python",
   "pygments_lexer": "ipython3",
   "version": "3.7.1"
  }
 },
 "nbformat": 4,
 "nbformat_minor": 2
}
